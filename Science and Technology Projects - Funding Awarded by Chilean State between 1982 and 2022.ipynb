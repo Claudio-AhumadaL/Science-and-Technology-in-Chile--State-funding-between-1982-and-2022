{
 "cells": [
  {
   "cell_type": "code",
   "execution_count": 1,
   "id": "5905e5cb",
   "metadata": {},
   "outputs": [],
   "source": [
    "# Import necessary libraries\n",
    "\n",
    "import pandas as pd\n",
    "import numpy as np\n",
    "import matplotlib.pyplot as plt\n",
    "from scipy import stats"
   ]
  },
  {
   "cell_type": "code",
   "execution_count": 2,
   "id": "52a91a33",
   "metadata": {},
   "outputs": [
    {
     "data": {
      "text/html": [
       "<div>\n",
       "<style scoped>\n",
       "    .dataframe tbody tr th:only-of-type {\n",
       "        vertical-align: middle;\n",
       "    }\n",
       "\n",
       "    .dataframe tbody tr th {\n",
       "        vertical-align: top;\n",
       "    }\n",
       "\n",
       "    .dataframe thead th {\n",
       "        text-align: right;\n",
       "    }\n",
       "</style>\n",
       "<table border=\"1\" class=\"dataframe\">\n",
       "  <thead>\n",
       "    <tr style=\"text-align: right;\">\n",
       "      <th></th>\n",
       "      <th>Código</th>\n",
       "      <th>Agencia</th>\n",
       "      <th>subdireccion</th>\n",
       "      <th>Instrumento</th>\n",
       "      <th>Concurso</th>\n",
       "      <th>Año</th>\n",
       "      <th>Titulo</th>\n",
       "      <th>RegionEjecucion</th>\n",
       "      <th>Tipo</th>\n",
       "      <th>Objetivo</th>\n",
       "      <th>Institucion</th>\n",
       "      <th>SectorEconomico</th>\n",
       "      <th>AreaConocimiento</th>\n",
       "      <th>Monto</th>\n",
       "      <th>TipoBeneficiario</th>\n",
       "    </tr>\n",
       "  </thead>\n",
       "  <tbody>\n",
       "    <tr>\n",
       "      <th>0</th>\n",
       "      <td>VIU21P0017</td>\n",
       "      <td>ANID</td>\n",
       "      <td>Investigación Aplicada e Innovación</td>\n",
       "      <td>VIU - Una Etapa</td>\n",
       "      <td>XI CONCURSO VALORIZACION DE LA INVESTIGACION E...</td>\n",
       "      <td>2021</td>\n",
       "      <td>CUBACTI, COMPLEJO A BASE DE COBRE, COMO TRATAM...</td>\n",
       "      <td>Región Metropolitana de Santiago</td>\n",
       "      <td>Subsidio</td>\n",
       "      <td>NaN</td>\n",
       "      <td>UNIVERSIDAD DE SANTIAGO DE CHILE</td>\n",
       "      <td>NaN</td>\n",
       "      <td>Ciencias Naturales</td>\n",
       "      <td>30000000.0</td>\n",
       "      <td>Persona Jurídica</td>\n",
       "    </tr>\n",
       "    <tr>\n",
       "      <th>1</th>\n",
       "      <td>VIU21P0051</td>\n",
       "      <td>ANID</td>\n",
       "      <td>Investigación Aplicada e Innovación</td>\n",
       "      <td>VIU - Una Etapa</td>\n",
       "      <td>XI CONCURSO VALORIZACION DE LA INVESTIGACION E...</td>\n",
       "      <td>2021</td>\n",
       "      <td>PLATAFORMA TECNOLOGICA PARA LA EVALUACION Y VA...</td>\n",
       "      <td>Región de Antofagasta</td>\n",
       "      <td>Subsidio</td>\n",
       "      <td>NaN</td>\n",
       "      <td>UNIVERSIDAD DE ANTOFAGASTA</td>\n",
       "      <td>NaN</td>\n",
       "      <td>Ciencias Naturales</td>\n",
       "      <td>30000000.0</td>\n",
       "      <td>Persona Jurídica</td>\n",
       "    </tr>\n",
       "    <tr>\n",
       "      <th>2</th>\n",
       "      <td>VIU21P0060</td>\n",
       "      <td>ANID</td>\n",
       "      <td>Investigación Aplicada e Innovación</td>\n",
       "      <td>VIU - Una Etapa</td>\n",
       "      <td>XI CONCURSO VALORIZACION DE LA INVESTIGACION E...</td>\n",
       "      <td>2021</td>\n",
       "      <td>BACTOMELANIN: PRODUCTO BASADO EN UN PIGMENTO B...</td>\n",
       "      <td>Región de La Araucanía</td>\n",
       "      <td>Subsidio</td>\n",
       "      <td>NaN</td>\n",
       "      <td>UNIVERSIDAD DE LA FRONTERA</td>\n",
       "      <td>NaN</td>\n",
       "      <td>Ciencias Naturales</td>\n",
       "      <td>30000000.0</td>\n",
       "      <td>Persona Jurídica</td>\n",
       "    </tr>\n",
       "    <tr>\n",
       "      <th>3</th>\n",
       "      <td>VIU21P0064</td>\n",
       "      <td>ANID</td>\n",
       "      <td>Investigación Aplicada e Innovación</td>\n",
       "      <td>VIU - Una Etapa</td>\n",
       "      <td>XI CONCURSO VALORIZACION DE LA INVESTIGACION E...</td>\n",
       "      <td>2021</td>\n",
       "      <td>\"VALORIZACION DE MELAZA AZUCARERA MEDIANTE LA ...</td>\n",
       "      <td>Región de La Araucanía</td>\n",
       "      <td>Subsidio</td>\n",
       "      <td>NaN</td>\n",
       "      <td>UNIVERSIDAD DE LA FRONTERA</td>\n",
       "      <td>NaN</td>\n",
       "      <td>Ingeniería y Tecnología</td>\n",
       "      <td>30000000.0</td>\n",
       "      <td>Persona Jurídica</td>\n",
       "    </tr>\n",
       "    <tr>\n",
       "      <th>4</th>\n",
       "      <td>VIU21P0018</td>\n",
       "      <td>ANID</td>\n",
       "      <td>Investigación Aplicada e Innovación</td>\n",
       "      <td>VIU - Una Etapa</td>\n",
       "      <td>XI CONCURSO VALORIZACION DE LA INVESTIGACION E...</td>\n",
       "      <td>2021</td>\n",
       "      <td>DESARROLLO DE FORMULACIONES FUNGICIDAS BASADAS...</td>\n",
       "      <td>Región Metropolitana de Santiago</td>\n",
       "      <td>Subsidio</td>\n",
       "      <td>NaN</td>\n",
       "      <td>PONTIFICIA UNIVERSIDAD CATOLICA DE CHILE</td>\n",
       "      <td>NaN</td>\n",
       "      <td>Ciencias Naturales</td>\n",
       "      <td>30000000.0</td>\n",
       "      <td>Persona Jurídica</td>\n",
       "    </tr>\n",
       "  </tbody>\n",
       "</table>\n",
       "</div>"
      ],
      "text/plain": [
       "       Código Agencia                         subdireccion      Instrumento  \\\n",
       "0  VIU21P0017    ANID  Investigación Aplicada e Innovación  VIU - Una Etapa   \n",
       "1  VIU21P0051    ANID  Investigación Aplicada e Innovación  VIU - Una Etapa   \n",
       "2  VIU21P0060    ANID  Investigación Aplicada e Innovación  VIU - Una Etapa   \n",
       "3  VIU21P0064    ANID  Investigación Aplicada e Innovación  VIU - Una Etapa   \n",
       "4  VIU21P0018    ANID  Investigación Aplicada e Innovación  VIU - Una Etapa   \n",
       "\n",
       "                                            Concurso   Año  \\\n",
       "0  XI CONCURSO VALORIZACION DE LA INVESTIGACION E...  2021   \n",
       "1  XI CONCURSO VALORIZACION DE LA INVESTIGACION E...  2021   \n",
       "2  XI CONCURSO VALORIZACION DE LA INVESTIGACION E...  2021   \n",
       "3  XI CONCURSO VALORIZACION DE LA INVESTIGACION E...  2021   \n",
       "4  XI CONCURSO VALORIZACION DE LA INVESTIGACION E...  2021   \n",
       "\n",
       "                                              Titulo  \\\n",
       "0  CUBACTI, COMPLEJO A BASE DE COBRE, COMO TRATAM...   \n",
       "1  PLATAFORMA TECNOLOGICA PARA LA EVALUACION Y VA...   \n",
       "2  BACTOMELANIN: PRODUCTO BASADO EN UN PIGMENTO B...   \n",
       "3  \"VALORIZACION DE MELAZA AZUCARERA MEDIANTE LA ...   \n",
       "4  DESARROLLO DE FORMULACIONES FUNGICIDAS BASADAS...   \n",
       "\n",
       "                    RegionEjecucion      Tipo Objetivo  \\\n",
       "0  Región Metropolitana de Santiago  Subsidio      NaN   \n",
       "1             Región de Antofagasta  Subsidio      NaN   \n",
       "2            Región de La Araucanía  Subsidio      NaN   \n",
       "3            Región de La Araucanía  Subsidio      NaN   \n",
       "4  Región Metropolitana de Santiago  Subsidio      NaN   \n",
       "\n",
       "                                Institucion SectorEconomico  \\\n",
       "0          UNIVERSIDAD DE SANTIAGO DE CHILE             NaN   \n",
       "1                UNIVERSIDAD DE ANTOFAGASTA             NaN   \n",
       "2                UNIVERSIDAD DE LA FRONTERA             NaN   \n",
       "3                UNIVERSIDAD DE LA FRONTERA             NaN   \n",
       "4  PONTIFICIA UNIVERSIDAD CATOLICA DE CHILE             NaN   \n",
       "\n",
       "          AreaConocimiento       Monto  TipoBeneficiario  \n",
       "0       Ciencias Naturales  30000000.0  Persona Jurídica  \n",
       "1       Ciencias Naturales  30000000.0  Persona Jurídica  \n",
       "2       Ciencias Naturales  30000000.0  Persona Jurídica  \n",
       "3  Ingeniería y Tecnología  30000000.0  Persona Jurídica  \n",
       "4       Ciencias Naturales  30000000.0  Persona Jurídica  "
      ]
     },
     "execution_count": 2,
     "metadata": {},
     "output_type": "execute_result"
    }
   ],
   "source": [
    "# Data loading\n",
    "\n",
    "sf_data = pd.read_csv('ProyectosCTCI.csv', sep = ';')\n",
    "sf_data.head()"
   ]
  },
  {
   "cell_type": "code",
   "execution_count": 3,
   "id": "d4c45748",
   "metadata": {
    "scrolled": true
   },
   "outputs": [
    {
     "name": "stdout",
     "output_type": "stream",
     "text": [
      "Código               object\n",
      "Agencia              object\n",
      "subdireccion         object\n",
      "Instrumento          object\n",
      "Concurso             object\n",
      "Año                   int64\n",
      "Titulo               object\n",
      "RegionEjecucion      object\n",
      "Tipo                 object\n",
      "Objetivo             object\n",
      "Institucion          object\n",
      "SectorEconomico      object\n",
      "AreaConocimiento     object\n",
      "Monto               float64\n",
      "TipoBeneficiario     object\n",
      "dtype: object\n",
      "                 Código Agencia                subdireccion       Instrumento  \\\n",
      "count             47818   47818                       47818             47818   \n",
      "unique            47481       3                           7               398   \n",
      "top     SIN INFORMACION    ANID  Proyectos de Investigación  FONDECYT REGULAR   \n",
      "freq                173   38263                       27654             17143   \n",
      "mean                NaN     NaN                         NaN               NaN   \n",
      "std                 NaN     NaN                         NaN               NaN   \n",
      "min                 NaN     NaN                         NaN               NaN   \n",
      "25%                 NaN     NaN                         NaN               NaN   \n",
      "50%                 NaN     NaN                         NaN               NaN   \n",
      "75%                 NaN     NaN                         NaN               NaN   \n",
      "max                 NaN     NaN                         NaN               NaN   \n",
      "\n",
      "       Concurso           Año           Titulo  \\\n",
      "count     38910  47818.000000            47815   \n",
      "unique     1022           NaN            45423   \n",
      "top     REGULAR           NaN  SIN INFORMACION   \n",
      "freq       1052           NaN              164   \n",
      "mean        NaN   2010.179221              NaN   \n",
      "std         NaN      9.576627              NaN   \n",
      "min         NaN   1982.000000              NaN   \n",
      "25%         NaN   2006.000000              NaN   \n",
      "50%         NaN   2013.000000              NaN   \n",
      "75%         NaN   2017.000000              NaN   \n",
      "max         NaN   2022.000000              NaN   \n",
      "\n",
      "                         RegionEjecucion      Tipo                Objetivo  \\\n",
      "count                              47818     47818                    8886   \n",
      "unique                                23         2                    7680   \n",
      "top     Región Metropolitana de Santiago  Subsidio  Información no pública   \n",
      "freq                               26600     46793                    1013   \n",
      "mean                                 NaN       NaN                     NaN   \n",
      "std                                  NaN       NaN                     NaN   \n",
      "min                                  NaN       NaN                     NaN   \n",
      "25%                                  NaN       NaN                     NaN   \n",
      "50%                                  NaN       NaN                     NaN   \n",
      "75%                                  NaN       NaN                     NaN   \n",
      "max                                  NaN       NaN                     NaN   \n",
      "\n",
      "                 Institucion SectorEconomico    AreaConocimiento  \\\n",
      "count                  47569            8908               38910   \n",
      "unique                  6380              30                   9   \n",
      "top     UNIVERSIDAD DE CHILE  Multisectorial  Ciencias Naturales   \n",
      "freq                    8795             922               16086   \n",
      "mean                     NaN             NaN                 NaN   \n",
      "std                      NaN             NaN                 NaN   \n",
      "min                      NaN             NaN                 NaN   \n",
      "25%                      NaN             NaN                 NaN   \n",
      "50%                      NaN             NaN                 NaN   \n",
      "75%                      NaN             NaN                 NaN   \n",
      "max                      NaN             NaN                 NaN   \n",
      "\n",
      "               Monto TipoBeneficiario  \n",
      "count   4.627800e+04            38910  \n",
      "unique           NaN                8  \n",
      "top              NaN  Persona Natural  \n",
      "freq             NaN            30140  \n",
      "mean    8.318299e+07              NaN  \n",
      "std     3.362285e+08              NaN  \n",
      "min     0.000000e+00              NaN  \n",
      "25%     1.396625e+07              NaN  \n",
      "50%     4.506975e+07              NaN  \n",
      "75%     9.098175e+07              NaN  \n",
      "max     1.748951e+10              NaN  \n"
     ]
    }
   ],
   "source": [
    "# Preliminary Inspection\n",
    "\n",
    "print(sf_data.dtypes)\n",
    "print(sf_data.describe(include='all'))"
   ]
  },
  {
   "cell_type": "code",
   "execution_count": 4,
   "id": "7726c79b",
   "metadata": {},
   "outputs": [
    {
     "data": {
      "text/plain": [
       "Código                  0\n",
       "Agencia                 0\n",
       "subdireccion            0\n",
       "Instrumento             0\n",
       "Concurso             8908\n",
       "Año                     0\n",
       "Titulo                  3\n",
       "RegionEjecucion         0\n",
       "Tipo                    0\n",
       "Objetivo            38932\n",
       "Institucion           249\n",
       "SectorEconomico     38910\n",
       "AreaConocimiento     8908\n",
       "Monto                1540\n",
       "TipoBeneficiario     8908\n",
       "dtype: int64"
      ]
     },
     "execution_count": 4,
     "metadata": {},
     "output_type": "execute_result"
    }
   ],
   "source": [
    "# Inspect NaN values\n",
    "\n",
    "sf_data.isnull().sum()"
   ]
  },
  {
   "cell_type": "code",
   "execution_count": 5,
   "id": "965510a7",
   "metadata": {},
   "outputs": [
    {
     "name": "stdout",
     "output_type": "stream",
     "text": [
      "ANID                  38263\n",
      "Corfo                  8908\n",
      "Subsecretaría CTCI      647\n",
      "Name: Agencia, dtype: int64\n",
      "Proyectos de Investigación             27654\n",
      "Innovación                              8908\n",
      "REC                                     5049\n",
      "Investigación Aplicada e Innovación     4058\n",
      "Centros e Investigación Asociativa      1003\n",
      "Ciencia y Sociedad                       647\n",
      "No Aplica                                499\n",
      "Name: subdireccion, dtype: int64\n"
     ]
    }
   ],
   "source": [
    "# Get value counts for columns of interest - State agencies and sub-agencies\n",
    "\n",
    "    # Agencia (Agency)\n",
    "\n",
    "print(sf_data.Agencia.value_counts())\n",
    "\n",
    "    # Subdirección (Sub-agencies)\n",
    "\n",
    "print(sf_data.subdireccion.value_counts())"
   ]
  },
  {
   "cell_type": "code",
   "execution_count": 6,
   "id": "eaee3577",
   "metadata": {
    "scrolled": true
   },
   "outputs": [
    {
     "name": "stdout",
     "output_type": "stream",
     "text": [
      "FONDECYT REGULAR                                                              17143\n",
      "FONDECYT INICIACION                                                            4337\n",
      "FONDECYT POSTDOCTORADO                                                         3858\n",
      "INCENTIVO A LA COOPERACION INTERNACIONAL FONDECYT                              1570\n",
      "Ley I+D                                                                        1025\n",
      "                                                                              ...  \n",
      "SISTEMA DE INFORMACION CIENTIFICA, TECNOLOGICA Y DE INNOVACION TECNOLOGICA        1\n",
      "Programa de Proyectos de T.T.  - 1a fase - 2001                                   1\n",
      "Línea del Apoyo al Extensionismo                                                  1\n",
      "Redes De Inversionistas Ángeles                                                   1\n",
      "INVESTIGACION CONJUNTA - RECURSOS MINEROS CONICYT-ACADEMIA DE FINLANDIA           1\n",
      "Name: Instrumento, Length: 398, dtype: int64\n",
      "REGULAR                                                                                                                      1052\n",
      "CONCURSO REGULAR FONDECYT 2013                                                                                                631\n",
      "REGULAR 2022                                                                                                                  610\n",
      "CONCURSO REGULAR FONDECYT 2012                                                                                                605\n",
      "FONDECYT REGULAR 2021                                                                                                         590\n",
      "                                                                                                                             ... \n",
      "CONCURSO PROPUESTAS DE OBSERVACION ASTRONOMICA PARA TIEMPO CHILENO EN EL OBSERVATORIO GEMINI SUR 2003-A                         1\n",
      "PROGRAMA EN BIOMINERIA, 2003                                                                                                    1\n",
      "CONCURSO INSERCION DE CAPITAL HUMANO AVANZADO EN EL SECTOR PRODUCTIVO. REGION DE MAGALLANES Y LA ANTARTICA CHILENA / 2011       1\n",
      "SISTEMA DE INFORMACION CIENTIFICA, TECNOLOGICA Y DE INNOVACION TECNOLOGICA 2002                                                 1\n",
      "PREMIO ABATE MOLINA, CONVOCATORIA 2014                                                                                          1\n",
      "Name: Concurso, Length: 1022, dtype: int64\n",
      "2017    3092\n",
      "2012    2843\n",
      "2015    2654\n",
      "2018    2553\n",
      "2021    2550\n",
      "2011    2529\n",
      "2016    2468\n",
      "2019    2431\n",
      "2020    2415\n",
      "2014    2406\n",
      "2010    1699\n",
      "2022    1673\n",
      "2013    1670\n",
      "2009    1633\n",
      "2007    1233\n",
      "2008    1189\n",
      "2006    1056\n",
      "2004     850\n",
      "2005     761\n",
      "1991     728\n",
      "2000     685\n",
      "1999     606\n",
      "2001     597\n",
      "2002     568\n",
      "2003     557\n",
      "1995     556\n",
      "1998     551\n",
      "1993     550\n",
      "1997     544\n",
      "1996     529\n",
      "1989     514\n",
      "1992     483\n",
      "1994     467\n",
      "1990     462\n",
      "1988     407\n",
      "1987     339\n",
      "1985     265\n",
      "1984     245\n",
      "1986     228\n",
      "1983     117\n",
      "1982     115\n",
      "Name: Año, dtype: int64\n",
      "Subsidio    46793\n",
      "Ley          1025\n",
      "Name: Tipo, dtype: int64\n"
     ]
    }
   ],
   "source": [
    "# Get value counts for columns of interest - Funding Instruments\n",
    "\n",
    "    # Instrumento (Instrument)\n",
    "\n",
    "print(sf_data.Instrumento.value_counts())\n",
    "\n",
    "    # Concurso (Contests)\n",
    "\n",
    "print(sf_data.Concurso.value_counts())\n",
    "\n",
    "    # Año de Ejecución (Year of Execution)\n",
    "\n",
    "print(sf_data.Año.value_counts())\n",
    "\n",
    "    # Tipo de fondo (Type of Funding)\n",
    "    \n",
    "print(sf_data.Tipo.value_counts())"
   ]
  },
  {
   "cell_type": "code",
   "execution_count": 7,
   "id": "c05b0438",
   "metadata": {
    "scrolled": false
   },
   "outputs": [
    {
     "name": "stdout",
     "output_type": "stream",
     "text": [
      "Multisectorial                                                                                 922\n",
      "Agrícola (excepto cultivo de uvas)                                                             899\n",
      "Minería y metalurgia extractiva                                                                807\n",
      "Alimentos (excepto producción de vino y derivados)                                             775\n",
      "Pesca y acuicultura                                                                            636\n",
      "Salud y Farmacéutica (en humanos)                                                              629\n",
      "Comercio y retail                                                                              523\n",
      "Educación y servicios conexos                                                                  471\n",
      "Construcción                                                                                   427\n",
      "Turismo                                                                                        397\n",
      "Energético                                                                                     301\n",
      "Telecomunicaciones y tecnologías de la información                                             240\n",
      "Logística y Transporte                                                                         236\n",
      "Industria creativa y esparcimiento                                                             226\n",
      "Ganadero                                                                                       225\n",
      "Vitivinícola                                                                                   179\n",
      "Forestal                                                                                       137\n",
      "Otros servicios empresariales                                                                  136\n",
      "Recursos Hídricos                                                                              122\n",
      "Gestión de desechos y Valorización de residuos                                                 108\n",
      "Otras industrias manufactureras                                                                102\n",
      "Química, caucho y plásticos (excepto industria farmacéutica)                                    81\n",
      "Manufactura de maquinaria y equipos (Metalmecánico)                                             69\n",
      "Sector público                                                                                  66\n",
      "Finanzas                                                                                        58\n",
      "Inmobiliarias                                                                                   39\n",
      "Manufactura de no metálicos                                                                     37\n",
      "Asociaciones y organizaciones no empresariales ni gubernamentales o comunidades específicas     34\n",
      "Manufactura de metales básicos                                                                  23\n",
      "sin información                                                                                  3\n",
      "Name: SectorEconomico, dtype: int64\n",
      "Ciencias Naturales                   16086\n",
      "Ciencias Sociales                     6308\n",
      "Ingeniería y Tecnología               5941\n",
      "Ciencias Médicas y de la Salud        4227\n",
      "Humanidades y Artes                   2462\n",
      "Ciencias Agrícolas y Veterinarias     2429\n",
      "Multidisciplinario                     860\n",
      "Sin información                        592\n",
      "No Aplica                                5\n",
      "Name: AreaConocimiento, dtype: int64\n",
      "Persona Natural                                              30140\n",
      "Persona Jurídica                                              8368\n",
      "Persona Jurídica - Institución de Educación Superior           260\n",
      "Otra                                                            79\n",
      "Persona Jurídica - Institución Privada Sin Fines de Lucro       29\n",
      "Persona Jurídica - Empresa                                      20\n",
      "Sin información                                                 13\n",
      "Persona Jurídica - Servicios Públicos                            1\n",
      "Name: TipoBeneficiario, dtype: int64\n",
      "Región Metropolitana de Santiago                       26600\n",
      "Región de Valparaíso                                    4981\n",
      "Región del Biobío                                       4706\n",
      "Región de La Araucanía                                  1854\n",
      "Región de Los Ríos                                      1854\n",
      "Región de Antofagasta                                   1383\n",
      "Región del Maule                                        1357\n",
      "Región de Coquimbo                                       965\n",
      "Sin Información                                          664\n",
      "Región de los Lagos                                      597\n",
      "Región de Los Lagos                                      486\n",
      "Región del Libertador General Bernardo O'Higgins         443\n",
      "Región de Arica y Parinacota                             408\n",
      "Región de Tarapacá                                       355\n",
      "Región de Magallanes y de La Antártica Chilena           276\n",
      "Región de Atacama                                        243\n",
      "Región de Aysén del General Carlos Ibáñez del Campo      195\n",
      "Región de Magallanes y de la Antártica Chilena           123\n",
      "Multiregional                                             98\n",
      "No Aplica                                                 86\n",
      "Región de Ñuble                                           73\n",
      "Extranjero                                                68\n",
      "Sin definir                                                3\n",
      "Name: RegionEjecucion, dtype: int64\n"
     ]
    }
   ],
   "source": [
    "# Get value counts for columns of interest - Awardees\n",
    "\n",
    "    # Sector Económico (Economic Sector)\n",
    "\n",
    "print(sf_data.SectorEconomico.value_counts())\n",
    "\n",
    "    # Area de Conocimiento (Area of Knowledge)\n",
    "\n",
    "print(sf_data.AreaConocimiento.value_counts())\n",
    "\n",
    "    # Tipo de Beneficiario (Type of Awardee)\n",
    "    \n",
    "print(sf_data.TipoBeneficiario.value_counts())\n",
    "\n",
    "    # Región (Region)\n",
    "\n",
    "print(sf_data.RegionEjecucion.value_counts())"
   ]
  },
  {
   "cell_type": "code",
   "execution_count": 8,
   "id": "452cc91f",
   "metadata": {},
   "outputs": [],
   "source": [
    "# Replace all occurences of \"Región de Magallanes y de La Antártica Chilena\" for \"Región de Magallanes y de la Antártica Chilena \"\n",
    "\n",
    "sf_data['RegionEjecucion'] = sf_data['RegionEjecucion'].replace('Región de Magallanes y de La Antártica Chilena', 'Región de Magallanes y de la Antártica Chilena')"
   ]
  },
  {
   "cell_type": "code",
   "execution_count": 9,
   "id": "c6a91608",
   "metadata": {},
   "outputs": [
    {
     "data": {
      "text/plain": [
       "Agencia             subdireccion                       \n",
       "ANID                Centros e Investigación Asociativa     8.597148e+08\n",
       "                    Investigación Aplicada e Innovación    1.145396e+08\n",
       "                    Proyectos de Investigación             6.729778e+07\n",
       "                    REC                                    4.022675e+07\n",
       "Corfo               Innovación                             5.853113e+07\n",
       "Subsecretaría CTCI  Ciencia y Sociedad                     4.584447e+07\n",
       "Name: Monto, dtype: float64"
      ]
     },
     "execution_count": 9,
     "metadata": {},
     "output_type": "execute_result"
    }
   ],
   "source": [
    "# Grouped table - State agencies and sub-agencies: Average amount granted by Agency and Sub-agency\n",
    "\n",
    "aag_a_sa = sf_data[sf_data['subdireccion'] != 'No Aplica'].groupby(['Agencia', 'subdireccion']).Monto.mean()\n",
    "aag_a_sa"
   ]
  },
  {
   "cell_type": "code",
   "execution_count": 10,
   "id": "d880b621",
   "metadata": {},
   "outputs": [
    {
     "data": {
      "text/plain": [
       "Instrumento                                                        Tipo    \n",
       "2014/Gestion De La Innovacion                                      Subsidio    2.997992e+07\n",
       "ACCION REGIONAL                                                    Subsidio    9.948286e+07\n",
       "ALIMENTOS FUNCIONALES                                              Subsidio    1.661598e+08\n",
       "AMSUD                                                              Subsidio    1.302437e+08\n",
       "ANILLOS CYT                                                        Subsidio    4.500000e+08\n",
       "                                                                                   ...     \n",
       "VIU - Etapa 1                                                      Subsidio    2.000000e+06\n",
       "VIU - Etapa 2                                                      Subsidio    2.400000e+07\n",
       "VIU - Etapa 2 Bases 4091/2018 Octava Convocatoria RenovaciOn 2019  Subsidio    2.400000e+07\n",
       "VIU - Una Etapa                                                    Subsidio    2.991396e+07\n",
       "Voucher De Innovación Para Empresas De Mujeres                     Subsidio    6.640054e+06\n",
       "Name: Monto, Length: 398, dtype: float64"
      ]
     },
     "execution_count": 10,
     "metadata": {},
     "output_type": "execute_result"
    }
   ],
   "source": [
    "# Grouped table - Funding instruments: Average amount granted by Instrument and Type of Contest\n",
    "\n",
    "aag_i_c = sf_data.groupby(['Instrumento', 'Tipo']).Monto.mean()\n",
    "aag_i_c"
   ]
  },
  {
   "cell_type": "code",
   "execution_count": 11,
   "id": "0ce06ffa",
   "metadata": {},
   "outputs": [
    {
     "data": {
      "text/plain": [
       "Año\n",
       "1982    3.925826e+05\n",
       "1983    3.601197e+05\n",
       "1984    3.719306e+05\n",
       "1985    4.850038e+05\n",
       "1986    1.922329e+06\n",
       "1987    1.895788e+06\n",
       "1988    7.142437e+06\n",
       "1989    7.374891e+06\n",
       "1990    8.643455e+06\n",
       "1991    3.502765e+07\n",
       "1992    3.402567e+07\n",
       "1993    3.089621e+07\n",
       "1994    2.214799e+07\n",
       "1995    2.364391e+07\n",
       "1996    3.228727e+07\n",
       "1997    5.882444e+07\n",
       "1998    8.758463e+07\n",
       "1999    7.724010e+07\n",
       "2000    4.571698e+07\n",
       "2001    1.036240e+08\n",
       "2002    7.088161e+07\n",
       "2003    6.932902e+07\n",
       "2004    6.576380e+07\n",
       "2005    7.036357e+07\n",
       "2006    5.679170e+07\n",
       "2007    1.462253e+08\n",
       "2008    6.200614e+07\n",
       "2009    1.232265e+08\n",
       "2010    9.263879e+07\n",
       "2011    7.475031e+07\n",
       "2012    9.826054e+07\n",
       "2013    8.994597e+07\n",
       "2014    9.517077e+07\n",
       "2015    8.825891e+07\n",
       "2016    8.578053e+07\n",
       "2017    7.682009e+07\n",
       "2018    9.592420e+07\n",
       "2019    1.023544e+08\n",
       "2020    9.323178e+07\n",
       "2021    1.414834e+08\n",
       "2022    1.065992e+08\n",
       "Name: Monto, dtype: float64"
      ]
     },
     "execution_count": 11,
     "metadata": {},
     "output_type": "execute_result"
    }
   ],
   "source": [
    "# Grouped table - Funding instruments: Average amount granted by Year of Execution\n",
    "\n",
    "aag_y = sf_data.groupby('Año').Monto.mean()\n",
    "aag_y\n"
   ]
  },
  {
   "cell_type": "code",
   "execution_count": 12,
   "id": "7aa622eb",
   "metadata": {},
   "outputs": [
    {
     "data": {
      "text/plain": [
       "SectorEconomico\n",
       "Agrícola (excepto cultivo de uvas)                                                             5.706615e+07\n",
       "Alimentos (excepto producción de vino y derivados)                                             3.718694e+07\n",
       "Asociaciones y organizaciones no empresariales ni gubernamentales o comunidades específicas    3.690815e+07\n",
       "Comercio y retail                                                                              3.200607e+07\n",
       "Construcción                                                                                   5.481725e+07\n",
       "Educación y servicios conexos                                                                  4.431951e+07\n",
       "Energético                                                                                     6.208279e+07\n",
       "Finanzas                                                                                       4.941506e+07\n",
       "Forestal                                                                                       4.670959e+07\n",
       "Ganadero                                                                                       5.469365e+07\n",
       "Gestión de desechos y Valorización de residuos                                                 3.191061e+07\n",
       "Industria creativa y esparcimiento                                                             3.912035e+07\n",
       "Inmobiliarias                                                                                  4.177225e+07\n",
       "Logística y Transporte                                                                         5.230781e+07\n",
       "Manufactura de maquinaria y equipos (Metalmecánico)                                            4.573225e+07\n",
       "Manufactura de metales básicos                                                                 2.688205e+07\n",
       "Manufactura de no metálicos                                                                    3.580656e+07\n",
       "Minería y metalurgia extractiva                                                                6.921431e+07\n",
       "Multisectorial                                                                                 6.727480e+07\n",
       "Otras industrias manufactureras                                                                3.310105e+07\n",
       "Otros servicios empresariales                                                                  6.279308e+07\n",
       "Pesca y acuicultura                                                                            8.815466e+07\n",
       "Química, caucho y plásticos (excepto industria farmacéutica)                                   3.377894e+07\n",
       "Recursos Hídricos                                                                              5.956445e+07\n",
       "Salud y Farmacéutica (en humanos)                                                              8.484004e+07\n",
       "Sector público                                                                                 5.583371e+07\n",
       "Telecomunicaciones y tecnologías de la información                                             6.081283e+07\n",
       "Turismo                                                                                        5.839526e+07\n",
       "Vitivinícola                                                                                   9.286466e+07\n",
       "Name: Monto, dtype: float64"
      ]
     },
     "execution_count": 12,
     "metadata": {},
     "output_type": "execute_result"
    }
   ],
   "source": [
    "# Grouped table - Awardees: Average amount granted by Economic Area\n",
    "\n",
    "aag_ea = sf_data[sf_data['SectorEconomico'] != 'sin información'].groupby(['SectorEconomico']).Monto.mean()\n",
    "aag_ea"
   ]
  },
  {
   "cell_type": "code",
   "execution_count": 13,
   "id": "0eb2bd43",
   "metadata": {},
   "outputs": [
    {
     "data": {
      "text/plain": [
       "AreaConocimiento\n",
       "Ciencias Agrícolas y Veterinarias    9.903207e+07\n",
       "Ciencias Médicas y de la Salud       8.869418e+07\n",
       "Ciencias Naturales                   9.540431e+07\n",
       "Ciencias Sociales                    6.451022e+07\n",
       "Humanidades y Artes                  4.469886e+07\n",
       "Ingeniería y Tecnología              9.711795e+07\n",
       "Multidisciplinario                   2.182715e+08\n",
       "Name: Monto, dtype: float64"
      ]
     },
     "execution_count": 13,
     "metadata": {},
     "output_type": "execute_result"
    }
   ],
   "source": [
    "# Grouped table - Awardees: Average amount granted by Area of Knowledge\n",
    "\n",
    "aag_ak = sf_data[(sf_data['AreaConocimiento'] != 'Sin información') & (sf_data['AreaConocimiento'] != 'No Aplica')].groupby(['AreaConocimiento']).Monto.mean()\n",
    "aag_ak"
   ]
  },
  {
   "cell_type": "code",
   "execution_count": 14,
   "id": "64cdf870",
   "metadata": {},
   "outputs": [
    {
     "data": {
      "text/plain": [
       "TipoBeneficiario\n",
       "Otra                                                         2.159080e+07\n",
       "Persona Jurídica                                             1.655018e+08\n",
       "Persona Jurídica - Empresa                                   3.715557e+07\n",
       "Persona Jurídica - Institución Privada Sin Fines de Lucro    3.076437e+07\n",
       "Persona Jurídica - Institución de Educación Superior         9.393932e+07\n",
       "Persona Jurídica - Servicios Públicos                        2.995000e+07\n",
       "Persona Natural                                              6.835075e+07\n",
       "Name: Monto, dtype: float64"
      ]
     },
     "execution_count": 14,
     "metadata": {},
     "output_type": "execute_result"
    }
   ],
   "source": [
    "# Grouped table - Awardees: Average amount granted by Type of Beneficiary\n",
    "\n",
    "aag_tb = sf_data[sf_data['TipoBeneficiario'] != 'Sin información'].groupby(['TipoBeneficiario']).Monto.mean()\n",
    "aag_tb"
   ]
  },
  {
   "cell_type": "code",
   "execution_count": 15,
   "id": "0006c249",
   "metadata": {},
   "outputs": [
    {
     "data": {
      "text/plain": [
       "RegionEjecucion\n",
       "Extranjero                                             6.909239e+06\n",
       "Multiregional                                          2.027068e+08\n",
       "No Aplica                                              4.428252e+07\n",
       "Región Metropolitana de Santiago                       8.642542e+07\n",
       "Región de Antofagasta                                  7.775534e+07\n",
       "Región de Arica y Parinacota                           6.989474e+07\n",
       "Región de Atacama                                      8.245006e+07\n",
       "Región de Aysén del General Carlos Ibáñez del Campo    1.022045e+08\n",
       "Región de Coquimbo                                     7.862042e+07\n",
       "Región de La Araucanía                                 7.287728e+07\n",
       "Región de Los Lagos                                    9.507123e+07\n",
       "Región de Los Ríos                                     9.639722e+07\n",
       "Región de Magallanes y de la Antártica Chilena         1.045515e+08\n",
       "Región de Tarapacá                                     8.876220e+07\n",
       "Región de Valparaíso                                   6.914337e+07\n",
       "Región de los Lagos                                    5.755311e+07\n",
       "Región de Ñuble                                        3.634475e+07\n",
       "Región del Biobío                                      8.774725e+07\n",
       "Región del Libertador General Bernardo O'Higgins       7.383048e+07\n",
       "Región del Maule                                       7.653720e+07\n",
       "Name: Monto, dtype: float64"
      ]
     },
     "execution_count": 15,
     "metadata": {},
     "output_type": "execute_result"
    }
   ],
   "source": [
    "# Grouped table - Awardees: Average amount granted by region\n",
    "\n",
    "aag_r = sf_data[(sf_data['RegionEjecucion'] != 'Sin Información') & ((sf_data['RegionEjecucion'] != 'Sin definir'))].groupby(['RegionEjecucion']).Monto.mean()\n",
    "aag_r\n"
   ]
  },
  {
   "cell_type": "code",
   "execution_count": 16,
   "id": "134d6f9b",
   "metadata": {},
   "outputs": [],
   "source": [
    "# Define function to get max and min values.\n",
    "\n",
    "def max_min_func(list_of_series):\n",
    "    list_of_texts = []\n",
    "    for i in list_of_series:\n",
    "        name_of_series = i.index.name\n",
    "        series_max = round(i.max(), 2)\n",
    "        series_min = round(i.min(),2)\n",
    "        list_of_texts.append(f'The {name_of_series} column has a maximum value of CLP{series_max} and a minimum value of CLP{series_min}.\\n')\n",
    "    for x in list_of_texts:\n",
    "        print(x)"
   ]
  },
  {
   "cell_type": "code",
   "execution_count": 17,
   "id": "f1c59e0c",
   "metadata": {},
   "outputs": [
    {
     "name": "stdout",
     "output_type": "stream",
     "text": [
      "The Año column has a maximum value of CLP146225337.69 and a minimum value of CLP360119.66.\n",
      "\n",
      "The SectorEconomico column has a maximum value of CLP92864661.13 and a minimum value of CLP26882051.74.\n",
      "\n",
      "The AreaConocimiento column has a maximum value of CLP218271493.5 and a minimum value of CLP44698859.58.\n",
      "\n",
      "The TipoBeneficiario column has a maximum value of CLP165501783.93 and a minimum value of CLP21590797.24.\n",
      "\n",
      "The RegionEjecucion column has a maximum value of CLP202706838.09 and a minimum value of CLP6909239.11.\n",
      "\n"
     ]
    }
   ],
   "source": [
    "# Get max and min values of the different grouped tables (Year, Economic Sector, Area of Knowledge, Type of Beneficiary, Region)\n",
    "\n",
    "grouped_tables = [aag_y, aag_ea, aag_ak, aag_tb, aag_r]\n",
    "max_min_func(grouped_tables)"
   ]
  },
  {
   "cell_type": "code",
   "execution_count": 18,
   "id": "92d996f1",
   "metadata": {},
   "outputs": [
    {
     "data": {
      "image/png": "[encoded data removed]",
      "text/plain": [
       "<Figure size 1000x500 with 2 Axes>"
      ]
     },
     "metadata": {},
     "output_type": "display_data"
    }
   ],
   "source": [
    "# Descriptive Analysis, Barplot - State agencies and sub-agencies\n",
    "\n",
    "\n",
    "# Compute the counts of each agency and subagency\n",
    "agency_counts = sf_data['Agencia'].value_counts()\n",
    "subagency_counts = sf_data['subdireccion'].value_counts()\n",
    "\n",
    "# Create a figure with two subplots\n",
    "fig, axs = plt.subplots(1, 2, figsize=(10, 5))\n",
    "\n",
    "# Create the State Agencies bar plot in the left subplot\n",
    "axs[0].bar(agency_counts.index, agency_counts.values, color='blue')\n",
    "axs[0].set_title('Bar plot of Agencies')\n",
    "\n",
    "# Create a bar plot of the subagencies in the right subplot\n",
    "axs[1].bar(subagency_counts.index, subagency_counts.values, color='green')\n",
    "axs[1].set_title('Bar plot of Subagencies')\n",
    "\n",
    "# Rotate the xtick labels by 30 degrees and set labels\n",
    "xticks = axs[1].get_xticks()\n",
    "xticklabels = axs[1].get_xticklabels()\n",
    "axs[1].set_xticks(xticks)\n",
    "labels = ['P.I.', 'Inn.', 'REC',  'I. Ap. e Inn.',  'C.I. Asoc.', 'Cs. y Soc.', 'No Aplica']\n",
    "axs[1].set_xticklabels(labels=labels, rotation=40)\n",
    "\n",
    "\n",
    "# Adjust the spacing between the tick labels\n",
    "axs[1].tick_params(axis='x', which='major', pad=10)\n",
    "\n",
    "# Adjust spacing between subplots\n",
    "plt.subplots_adjust(wspace=0.3)\n",
    "\n",
    "# Save the figure as a PNG file\n",
    "#fig.savefig('myfigure.png')\n",
    "\n",
    "# Display the plot\n",
    "plt.show()"
   ]
  },
  {
   "cell_type": "code",
   "execution_count": 19,
   "id": "4149fcbb",
   "metadata": {},
   "outputs": [
    {
     "data": {
      "image/png": "[encoded data removed]",
      "text/plain": [
       "<Figure size 800x600 with 1 Axes>"
      ]
     },
     "metadata": {},
     "output_type": "display_data"
    }
   ],
   "source": [
    "# Descriptive Analysis, Barplot - Area of Knowledge\n",
    "\n",
    "aok_counts = sf_data.AreaConocimiento.value_counts()\n",
    "\n",
    "plt.figure(figsize=(8,6))\n",
    "ax_1 = plt.bar(aok_counts.index, aok_counts.values, color='red')\n",
    "plt.title('Bar plot of Area of Knowledge')\n",
    "aok_ticks = [0, 1, 2, 3, 4, 5, 6, 7, 8]\n",
    "aok_labels = ['Cs. Nat', 'Cs. Soc.', 'Ing. y Tec.', 'Cs. Med.', 'Hum. y Art.', 'Cs. Ag. y Vet.', 'Multidisc.', 'Sin info', 'No Aplica']\n",
    "plt.xticks(ticks = aok_ticks, labels = aok_labels, rotation=40)\n",
    "plt.show()"
   ]
  },
  {
   "cell_type": "code",
   "execution_count": 20,
   "id": "6ccb535d",
   "metadata": {},
   "outputs": [
    {
     "data": {
      "image/png": "[encoded data removed]",
      "text/plain": [
       "<Figure size 800x600 with 1 Axes>"
      ]
     },
     "metadata": {},
     "output_type": "display_data"
    }
   ],
   "source": [
    "# Descriptive Analysis, Histogram - Year of Execution\n",
    "\n",
    "plt.figure(figsize=(8,6))\n",
    "ax_2 = plt.hist(sf_data['Año'], color='navy', bins=40)\n",
    "plt.title('Histogram of Year of Execution')\n",
    "plt.xticks(np.arange(1982, 2023, 2), rotation=40)\n",
    "plt.show()"
   ]
  },
  {
   "cell_type": "code",
   "execution_count": 21,
   "id": "e657dd60",
   "metadata": {},
   "outputs": [
    {
     "name": "stdout",
     "output_type": "stream",
     "text": [
      "[[9.27692689e+01 2.43238902e+08]\n",
      " [2.43238902e+08 1.13049593e+17]]\n"
     ]
    }
   ],
   "source": [
    "# Covariance of Year and Amount granted.\n",
    "\n",
    "# Drop NaN values\n",
    "\n",
    "curated_data = sf_data[(sf_data['Monto'].notnull())]\n",
    "\n",
    "y_ag_cov = np.cov(curated_data['Año'], curated_data['Monto'])\n",
    "print(y_ag_cov)\n",
    "\n",
    "# A positive covariance (2.43e+08) suggest that these variables are in direct relationship.\n",
    "# As age increases, the amount granted grows."
   ]
  },
  {
   "cell_type": "code",
   "execution_count": 22,
   "id": "935c75b8",
   "metadata": {
    "scrolled": true
   },
   "outputs": [
    {
     "name": "stdout",
     "output_type": "stream",
     "text": [
      "0.07510977602379174 6.947962495698141e-59\n"
     ]
    }
   ],
   "source": [
    "# Correlation of Year and Amount granted.\n",
    "\n",
    "y_ag_corr, p = stats.pearsonr(curated_data['Año'], curated_data['Monto'])\n",
    "print(y_ag_corr, p)\n",
    "\n",
    "# Even though the correlation es positive, it's relatively near 0.\n",
    "# This suggests that while the relation is positive, it's weak. \n",
    "# The p-value is very small, which suggests that this result is not due to chance: its statistically significative."
   ]
  },
  {
   "cell_type": "code",
   "execution_count": null,
   "id": "0b0feb20",
   "metadata": {},
   "outputs": [],
   "source": []
  }
 ],
 "metadata": {
  "kernelspec": {
   "display_name": "Python 3 (ipykernel)",
   "language": "python",
   "name": "python3"
  },
  "language_info": {
   "codemirror_mode": {
    "name": "ipython",
    "version": 3
   },
   "file_extension": ".py",
   "mimetype": "text/x-python",
   "name": "python",
   "nbconvert_exporter": "python",
   "pygments_lexer": "ipython3",
   "version": "3.9.13"
  }
 },
 "nbformat": 4,
 "nbformat_minor": 5
}
