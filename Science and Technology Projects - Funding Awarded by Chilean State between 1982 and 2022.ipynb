{
 "cells": [
  {
   "cell_type": "code",
   "execution_count": null,
   "id": "771046be",
   "metadata": {},
   "outputs": [],
   "source": [
    "# Import necessary libraries\n",
    "\n",
    "import pandas as pd\n",
    "import numpy as np\n",
    "import matplotlib.pyplot as plt\n",
    "from scipy import stats"
   ]
  },
  {
   "cell_type": "code",
   "execution_count": null,
   "id": "42c9be29",
   "metadata": {},
   "outputs": [],
   "source": [
    "# Data loading\n",
    "\n",
    "sf_data = pd.read_csv('ProyectosCTCI.csv', sep = ';')\n",
    "sf_data.head()"
   ]
  },
  {
   "cell_type": "code",
   "execution_count": null,
   "id": "be21ef0a",
   "metadata": {
    "scrolled": true
   },
   "outputs": [],
   "source": [
    "# Preliminary Inspection\n",
    "\n",
    "print(sf_data.dtypes)\n",
    "print(sf_data.describe(include='all'))"
   ]
  },
  {
   "cell_type": "code",
   "execution_count": null,
   "id": "3a818c65",
   "metadata": {},
   "outputs": [],
   "source": [
    "# Inspect NaN values\n",
    "\n",
    "sf_data.isnull().sum()"
   ]
  },
  {
   "cell_type": "code",
   "execution_count": null,
   "id": "a0ce01d7",
   "metadata": {},
   "outputs": [],
   "source": [
    "# Get value counts for columns of interest - State agencies and sub-agencies\n",
    "\n",
    "    # Agencia (Agency)\n",
    "\n",
    "print(sf_data.Agencia.value_counts())\n",
    "\n",
    "    # Subdirección (Sub-agencies)\n",
    "\n",
    "print(sf_data.subdireccion.value_counts())"
   ]
  },
  {
   "cell_type": "code",
   "execution_count": null,
   "id": "8c4ed00e",
   "metadata": {
    "scrolled": true
   },
   "outputs": [],
   "source": [
    "# Get value counts for columns of interest - Funding Instruments\n",
    "\n",
    "    # Instrumento (Instrument)\n",
    "\n",
    "print(sf_data.Instrumento.value_counts())\n",
    "\n",
    "    # Concurso (Contests)\n",
    "\n",
    "print(sf_data.Concurso.value_counts())\n",
    "\n",
    "    # Año de Ejecución (Year of Execution)\n",
    "\n",
    "print(sf_data.Año.value_counts())\n",
    "\n",
    "    # Tipo de fondo (Type of Funding)\n",
    "    \n",
    "print(sf_data.Tipo.value_counts())"
   ]
  },
  {
   "cell_type": "code",
   "execution_count": null,
   "id": "9e354771",
   "metadata": {
    "scrolled": false
   },
   "outputs": [],
   "source": [
    "# Get value counts for columns of interest - Awardees\n",
    "\n",
    "    # Sector Económico (Economic Sector)\n",
    "\n",
    "print(sf_data.SectorEconomico.value_counts())\n",
    "\n",
    "    # Area de Conocimiento (Area of Knowledge)\n",
    "\n",
    "print(sf_data.AreaConocimiento.value_counts())\n",
    "\n",
    "    # Tipo de Beneficiario (Type of Awardee)\n",
    "    \n",
    "print(sf_data.TipoBeneficiario.value_counts())\n",
    "\n",
    "    # Región (Region)\n",
    "\n",
    "print(sf_data.RegionEjecucion.value_counts())"
   ]
  },
  {
   "cell_type": "code",
   "execution_count": null,
   "id": "ebbdf524",
   "metadata": {},
   "outputs": [],
   "source": [
    "# Replace all occurences of \"Región de Magallanes y de La Antártica Chilena\" for \"Región de Magallanes y de la Antártica Chilena\". Same method to fix \"Region de los Lagos\"\n",
    "\n",
    "sf_data['RegionEjecucion'] = sf_data['RegionEjecucion'].replace('Región de Magallanes y de La Antártica Chilena', 'Región de Magallanes y de la Antártica Chilena')\n",
    "sf_data['RegionEjecucion'] = sf_data['RegionEjecucion'].replace('Región de los Lagos', 'Región de Los Lagos')"
   ]
  },
  {
   "cell_type": "code",
   "execution_count": null,
   "id": "ca65397a",
   "metadata": {},
   "outputs": [],
   "source": [
    "# Descriptive Analysis, Barplot - State agencies and sub-agencies\n",
    "\n",
    "\n",
    "# Compute the counts of each agency and subagency\n",
    "agency_counts = sf_data['Agencia'].value_counts()\n",
    "subagency_counts = sf_data['subdireccion'].value_counts()\n",
    "\n",
    "# Create a figure with two subplots\n",
    "fig, axs = plt.subplots(1, 2, figsize=(10, 5))\n",
    "\n",
    "# Create the State Agencies bar plot in the left subplot\n",
    "axs[0].bar(agency_counts.index, agency_counts.values, color='blue')\n",
    "axs[0].set_title('Bar plot of Agencies')\n",
    "\n",
    "# Create a bar plot of the subagencies in the right subplot\n",
    "axs[1].bar(subagency_counts.index, subagency_counts.values, color='green')\n",
    "axs[1].set_title('Bar plot of Subagencies')\n",
    "\n",
    "# Rotate the xtick labels by 30 degrees and set labels\n",
    "xticks = axs[1].get_xticks()\n",
    "xticklabels = axs[1].get_xticklabels()\n",
    "axs[1].set_xticks(xticks)\n",
    "labels = ['P.I.', 'Inn.', 'REC',  'I. Ap. e Inn.',  'C.I. Asoc.', 'Cs. y Soc.', 'No Aplica']\n",
    "axs[1].set_xticklabels(labels=labels, rotation=40)\n",
    "\n",
    "\n",
    "# Adjust the spacing between the tick labels\n",
    "axs[1].tick_params(axis='x', which='major', pad=10)\n",
    "\n",
    "# Adjust spacing between subplots\n",
    "plt.subplots_adjust(wspace=0.3)\n",
    "\n",
    "# Save the figure as a PNG file\n",
    "#fig.savefig('myfigure.png')\n",
    "\n",
    "# Display the plot\n",
    "plt.show()"
   ]
  },
  {
   "cell_type": "code",
   "execution_count": null,
   "id": "546e9310",
   "metadata": {},
   "outputs": [],
   "source": [
    "# Descriptive Analysis, Barplot - Area of Knowledge\n",
    "\n",
    "aok_counts = sf_data[(sf_data['AreaConocimiento'] != 'Sin información') & (sf_data['AreaConocimiento'] != 'No Aplica')].AreaConocimiento.value_counts()\n",
    "\n",
    "plt.figure(figsize=(8,6))\n",
    "ax_1 = plt.bar(aok_counts.index, aok_counts.values, color='red')\n",
    "plt.title('Bar plot of Area of Knowledge')\n",
    "aok_ticks = [0, 1, 2, 3, 4, 5, 6]\n",
    "aok_labels = ['Cs. Nat', 'Cs. Soc.', 'Ing. y Tec.', 'Cs. Med.', 'Hum. y Art.', 'Cs. Ag. y Vet.', 'Multidisc.']\n",
    "plt.xticks(ticks = aok_ticks, labels = aok_labels, rotation=40)\n",
    "plt.show()"
   ]
  },
  {
   "cell_type": "code",
   "execution_count": null,
   "id": "499871c3",
   "metadata": {},
   "outputs": [],
   "source": [
    "# Descriptive Analysis, Barplot - Economic Sector\n",
    "\n",
    "es_counts = sf_data[sf_data['SectorEconomico'] != 'sin información']['SectorEconomico'].value_counts()\n",
    "\n",
    "plt.figure(figsize=(8,6))\n",
    "ax_5 = plt.barh(es_counts.index, es_counts.values, color = 'darkcyan')\n",
    "plt.title(\"Bar plot of awarded projects per Economic Sector\")\n",
    "plt.show()"
   ]
  },
  {
   "cell_type": "code",
   "execution_count": null,
   "id": "94606c31",
   "metadata": {},
   "outputs": [],
   "source": [
    "# Descriptive Analysis, Barplot - Instrument\n",
    "\n",
    "i_counts = sf_data.Instrumento.value_counts()\n",
    "top_counts = i_counts.head(15)\n",
    "plt.figure(figsize=(8,6))\n",
    "ax_6 = plt.barh(top_counts.index, top_counts.values, color = 'firebrick')\n",
    "plt.title(\"Bar plot of top 15 Instruments by number of projects awarded\")\n",
    "plt.show()"
   ]
  },
  {
   "cell_type": "code",
   "execution_count": null,
   "id": "dd4e276b",
   "metadata": {
    "scrolled": false
   },
   "outputs": [],
   "source": [
    "# Descriptive Analysis, Bar Plot - Year of Execution\n",
    "year_counts = sf_data['Año'].value_counts()\n",
    "plt.figure(figsize=(8,6))\n",
    "ax_2 = plt.barh(year_counts.index, year_counts.values, color='navy')\n",
    "plt.yticks(range(1982, 2023))\n",
    "plt.tight_layout()\n",
    "plt.title('Bar plot of Year of Execution')\n",
    "plt.show()"
   ]
  },
  {
   "cell_type": "code",
   "execution_count": null,
   "id": "85a30450",
   "metadata": {},
   "outputs": [],
   "source": [
    "# Descriptive Analysis, Bar chart - Region of Execution\n",
    "\n",
    "curated_region_data = sf_data[(sf_data['RegionEjecucion'] != 'Sin Información') & ((sf_data['RegionEjecucion'] != 'Sin definir'))]['RegionEjecucion'].value_counts()\n",
    "\n",
    "plt.figure(figsize=(8,6))\n",
    "ax_4 = plt.barh(curated_region_data.index, curated_region_data.values, color = 'darkorange')\n",
    "plt.title(\"Bar plot of awarded projects by Region\")\n",
    "plt.show()"
   ]
  },
  {
   "cell_type": "code",
   "execution_count": null,
   "id": "970b0bf8",
   "metadata": {},
   "outputs": [],
   "source": [
    "# Exploratory Analysis, Scatterplot: Amount granted by time\n",
    "\n",
    "plt.figure(figsize=(8,6))\n",
    "plt.scatter(sf_data['Año'], sf_data['Monto'])\n",
    "plt.title('Amount vs Year Scatter Plot')\n",
    "plt.xlabel('Year')\n",
    "plt.ylabel('Amount')\n",
    "plt.show()\n"
   ]
  },
  {
   "cell_type": "code",
   "execution_count": null,
   "id": "434884f0",
   "metadata": {},
   "outputs": [],
   "source": [
    "# Grouped table - State agencies and sub-agencies: Average amount granted by Agency and Sub-agency\n",
    "\n",
    "aag_a = sf_data.groupby(['Agencia']).Monto.mean()\n",
    "print(aag_a)\n",
    "\n",
    "max_idx = aag_a.idxmax()\n",
    "max_a = max_idx\n",
    "max_aa_a = round(aag_a.loc[max_idx], 2)\n",
    "\n",
    "min_idx = aag_a.idxmin()\n",
    "min_a = min_idx\n",
    "min_aa_a = round(aag_a.loc[min_idx], 2)\n",
    "\n",
    "print(max_a)\n",
    "print(max_aa_a)\n",
    "print(min_a)\n",
    "print(min_aa_a)"
   ]
  },
  {
   "cell_type": "code",
   "execution_count": null,
   "id": "a119cb67",
   "metadata": {},
   "outputs": [],
   "source": [
    "# Grouped table - State agencies and sub-agencies: Average amount granted by Sub-agency\n",
    "\n",
    "aag_sa = sf_data[sf_data['subdireccion'] != 'No Aplica'].groupby(['subdireccion']).Monto.mean()\n",
    "print(aag_sa)\n",
    "\n",
    "max_idx_2 = aag_sa.idxmax()\n",
    "max_sa = max_idx_2\n",
    "max_aa_sa = round(aag_sa.loc[max_idx_2], 2)\n",
    "\n",
    "min_idx_2 = aag_sa.idxmin()\n",
    "min_sa = min_idx_2\n",
    "min_aa_sa = round(aag_sa.loc[min_idx_2], 2)\n",
    "\n",
    "print(max_sa)\n",
    "print(max_aa_sa)\n",
    "print(min_sa)\n",
    "print(min_aa_sa)\n"
   ]
  },
  {
   "cell_type": "code",
   "execution_count": null,
   "id": "b68c2221",
   "metadata": {},
   "outputs": [],
   "source": [
    "# Grouped table - Funding instruments: Average amount granted by Instrument\n",
    "\n",
    "aag_i = sf_data[sf_data['Monto'] != 0].groupby(['Instrumento']).Monto.mean()\n",
    "print(aag_i)\n",
    "\n",
    "max_idx_3 = aag_i.idxmax()\n",
    "max_i = max_idx_3\n",
    "max_aa_i = round(aag_i.loc[max_idx_3], 2)\n",
    "\n",
    "min_idx_3 = aag_i.idxmin()\n",
    "min_i = min_idx_3\n",
    "min_aa_i = round(aag_i.loc[min_idx_3], 2)\n",
    "\n",
    "print(max_i)\n",
    "print(max_aa_i)\n",
    "print(min_i)\n",
    "print(min_aa_i)"
   ]
  },
  {
   "cell_type": "code",
   "execution_count": null,
   "id": "c01f3877",
   "metadata": {},
   "outputs": [],
   "source": [
    "# Grouped table - Funding instruments: Average amount granted by Type of Contest\n",
    "aag_tc = sf_data.groupby(['Tipo']).Monto.mean()\n",
    "print(aag_tc)\n",
    "\n",
    "max_idx_4 = aag_tc.idxmax()\n",
    "max_tc = max_idx_4\n",
    "max_aa_tc = round(aag_tc.loc[max_idx_4], 2)\n",
    "\n",
    "min_idx_4 = aag_tc.idxmin()\n",
    "min_tc = min_idx_4\n",
    "min_aa_tc = round(aag_tc.loc[min_idx_4], 2)\n",
    "\n",
    "print(max_tc)\n",
    "print(max_aa_tc)\n",
    "print(min_tc)\n",
    "print(min_aa_tc)"
   ]
  },
  {
   "cell_type": "code",
   "execution_count": null,
   "id": "9da5f87f",
   "metadata": {},
   "outputs": [],
   "source": [
    "# Grouped table - Funding instruments: Average amount granted by Year of Execution\n",
    "\n",
    "aag_y = sf_data.groupby('Año').Monto.mean()\n",
    "\n",
    "print(aag_y)\n",
    "\n",
    "max_idx_5 = aag_y.idxmax()\n",
    "max_y = max_idx_5\n",
    "max_aa_y = round(aag_y.loc[max_idx_5], 2)\n",
    "\n",
    "min_idx_5 = aag_y.idxmin()\n",
    "min_y = min_idx_5\n",
    "min_aa_y = round(aag_y.loc[min_idx_5], 2)\n",
    "\n",
    "print(max_y)\n",
    "print(max_aa_y)\n",
    "print(min_y)\n",
    "print(min_aa_y)\n"
   ]
  },
  {
   "cell_type": "code",
   "execution_count": null,
   "id": "7e0472be",
   "metadata": {},
   "outputs": [],
   "source": [
    "# Grouped table - Awardees: Average amount granted by Economic Area\n",
    "\n",
    "aag_ea = sf_data[sf_data['SectorEconomico'] != 'sin información'].groupby(['SectorEconomico']).Monto.mean()\n",
    "\n",
    "print(aag_ea)\n",
    "\n",
    "max_idx_6 = aag_ea.idxmax()\n",
    "max_ea = max_idx_6\n",
    "max_aa_ea = round(aag_ea.loc[max_idx_6], 2)\n",
    "\n",
    "min_idx_6 = aag_ea.idxmin()\n",
    "min_ea = min_idx_6\n",
    "min_aa_ea = round(aag_ea.loc[min_idx_6], 2)\n",
    "\n",
    "print(max_ea)\n",
    "print(max_aa_ea)\n",
    "print(min_ea)\n",
    "print(min_aa_ea)"
   ]
  },
  {
   "cell_type": "code",
   "execution_count": null,
   "id": "44c33c1e",
   "metadata": {},
   "outputs": [],
   "source": [
    "# Grouped table - Awardees: Average amount granted by Area of Knowledge\n",
    "\n",
    "aag_ak = sf_data[(sf_data['AreaConocimiento'] != 'Sin información') & (sf_data['AreaConocimiento'] != 'No Aplica')].groupby(['AreaConocimiento']).Monto.mean()\n",
    "print(aag_ak)\n",
    "\n",
    "max_idx_7 = aag_ak.idxmax()\n",
    "max_ak = max_idx_7\n",
    "max_aa_ak = round(aag_ak.loc[max_idx_7], 2)\n",
    "\n",
    "min_idx_7 = aag_ak.idxmin()\n",
    "min_ak = min_idx_7\n",
    "min_aa_ak = round(aag_ak.loc[min_idx_7], 2)\n",
    "\n",
    "print(max_ak)\n",
    "print(max_aa_ak)\n",
    "print(min_ak)\n",
    "print(min_aa_ak)"
   ]
  },
  {
   "cell_type": "code",
   "execution_count": null,
   "id": "8808e91e",
   "metadata": {},
   "outputs": [],
   "source": [
    "# Grouped table - Awardees: Average amount granted by Type of Beneficiary\n",
    "\n",
    "aag_tb = sf_data[sf_data['TipoBeneficiario'] != 'Sin información'].groupby(['TipoBeneficiario']).Monto.mean()\n",
    "print(aag_tb)\n",
    "\n",
    "max_idx_8 = aag_tb.idxmax()\n",
    "max_tb = max_idx_8\n",
    "max_aa_tb = round(aag_tb.loc[max_idx_8], 2)\n",
    "\n",
    "min_idx_8 = aag_tb.idxmin()\n",
    "min_tb = min_idx_8\n",
    "min_aa_tb = round(aag_tb.loc[min_idx_8], 2)\n",
    "\n",
    "print(max_tb)\n",
    "print(max_aa_tb)\n",
    "print(min_tb)\n",
    "print(min_aa_tb)"
   ]
  },
  {
   "cell_type": "code",
   "execution_count": null,
   "id": "f56ebf55",
   "metadata": {},
   "outputs": [],
   "source": [
    "# Grouped table - Awardees: Average amount granted by region\n",
    "\n",
    "aag_r = sf_data[(sf_data['RegionEjecucion'] != 'Sin Información') & ((sf_data['RegionEjecucion'] != 'Sin definir'))].groupby(['RegionEjecucion']).Monto.mean()\n",
    "print(aag_r)\n",
    "\n",
    "max_idx_9 = aag_r.idxmax()\n",
    "max_r = max_idx_9\n",
    "max_aa_r = round(aag_r.loc[max_idx_9], 2)\n",
    "\n",
    "min_idx_9 = aag_r.idxmin()\n",
    "min_r = min_idx_9\n",
    "min_aa_r = round(aag_r.loc[min_idx_9], 2)\n",
    "\n",
    "print(max_r)\n",
    "print(max_aa_r)\n",
    "print(min_r)\n",
    "print(min_aa_r)\n"
   ]
  },
  {
   "cell_type": "code",
   "execution_count": null,
   "id": "1235ba40",
   "metadata": {},
   "outputs": [],
   "source": [
    "# Highest and lowest average amount granted per category - Summarizing table.\n",
    "\n",
    "aa_data = {'Max Element': [max_a, max_sa, max_i, max_tc, max_y, max_ea, max_ak, max_tb, max_r],\\\n",
    "          'Max Amount (CLP)': [max_aa_a, max_aa_sa, max_aa_i, max_aa_tc, max_aa_y, max_aa_ea, max_aa_ak, max_aa_tb, max_aa_r],\\\n",
    "          'Min Element': [min_a, min_sa, min_i, min_tc, min_y, min_ea, min_ak, min_tb, min_r],\\\n",
    "          'Min Amount (CLP)': [min_aa_a, min_aa_sa, min_aa_i, min_aa_tc, min_aa_y, min_aa_ea, min_aa_ak, min_aa_tb, min_aa_r]}\n",
    "\n",
    "summary_table = pd.DataFrame(aa_data, index=['Agency', 'Subagency', 'Instrument', 'Type of Contest', 'Year', 'Economic Sector',\\\n",
    "                                            'Area of Knowledge', 'Type of Beneficiary', 'Region'])\n",
    "\n",
    "summary_table"
   ]
  },
  {
   "cell_type": "code",
   "execution_count": null,
   "id": "b2babdc0",
   "metadata": {},
   "outputs": [],
   "source": [
    "# Define function to get max and min values.\n",
    "\n",
    "def max_min_func(list_of_series):\n",
    "    list_of_texts = []\n",
    "    for i in list_of_series:\n",
    "        name_of_series = i.index.name\n",
    "        series_max = round(i.max(), 2)\n",
    "        series_min = round(i.min(),2)\n",
    "        list_of_texts.append(f'The {name_of_series} column has a maximum value of CLP{series_max} and a minimum value of CLP{series_min}.\\n')\n",
    "    for x in list_of_texts:\n",
    "        print(x)"
   ]
  },
  {
   "cell_type": "code",
   "execution_count": null,
   "id": "3056b188",
   "metadata": {},
   "outputs": [],
   "source": [
    "# Get max and min values of the different grouped tables (Year, Economic Sector, Area of Knowledge, Type of Beneficiary, Region)\n",
    "\n",
    "grouped_tables = [aag_a, aag_sa, aag_i, aag_tc, aag_y, aag_ea, aag_ak, aag_tb, aag_r]\n",
    "max_min_func(grouped_tables)"
   ]
  },
  {
   "cell_type": "code",
   "execution_count": null,
   "id": "e27a1e33",
   "metadata": {},
   "outputs": [],
   "source": [
    "# High Earners analysis\n",
    "# Bar plot: Amount granted by code of project (Top 20 high earners)\n",
    "\n",
    "high_earner_projects = sf_data.sort_values(by=['Monto'], ascending = False).head(20)\n",
    "\n",
    "plt.figure(figsize=(8,6))\n",
    "plt.barh(high_earner_projects['Código'], high_earner_projects['Monto'])\n",
    "plt.title('Amount vs code of project Bar Plot (Top 20 earners)')\n",
    "plt.xlabel('Amount')\n",
    "plt.ylabel('Code')\n",
    "plt.show()"
   ]
  },
  {
   "cell_type": "code",
   "execution_count": null,
   "id": "eef4838e",
   "metadata": {},
   "outputs": [],
   "source": [
    "# Get high amount projects years (Top 20)\n",
    "\n",
    "high_earner_projects = sf_data.sort_values(by=['Monto'], ascending = False).head(20)\n",
    "high_earner_projects['Año'].value_counts()"
   ]
  },
  {
   "cell_type": "code",
   "execution_count": null,
   "id": "c8c17ed4",
   "metadata": {},
   "outputs": [],
   "source": [
    "# Get high amount projects Instrument (Top 20)\n",
    "\n",
    "high_earner_projects['Instrumento'].value_counts()"
   ]
  },
  {
   "cell_type": "code",
   "execution_count": null,
   "id": "fd24866a",
   "metadata": {},
   "outputs": [],
   "source": [
    "# Get high amount projects Region (Top 20)\n",
    "\n",
    "high_earner_projects['RegionEjecucion'].value_counts()"
   ]
  },
  {
   "cell_type": "code",
   "execution_count": null,
   "id": "0eb84a1e",
   "metadata": {},
   "outputs": [],
   "source": [
    "# Get high amount projects Area of Knowledge (Top 20)\n",
    "\n",
    "high_earner_projects['AreaConocimiento'].value_counts()"
   ]
  },
  {
   "cell_type": "code",
   "execution_count": null,
   "id": "88efe633",
   "metadata": {},
   "outputs": [],
   "source": [
    "# Last 5 years analysis\n",
    "\n",
    "# Get rows\n",
    "last_5_years_projects = sf_data[sf_data['Año'] > 2017]\n",
    "\n",
    "# Grouped table: Average amount granted by instrument for last 5 year's projects\n",
    "\n",
    "aag_i_l5y = sf_data[sf_data['Monto'] != 0].groupby(['Instrumento']).Monto.mean()\n",
    "print(aag_i_l5y)\n",
    "\n",
    "max_idx_l5y = aag_i_l5y.idxmax()\n",
    "max_i_l5y = max_idx_l5y\n",
    "max_aa_i_l5y = round(aag_i_l5y.loc[max_idx_l5y], 2)\n",
    "\n",
    "min_idx_l5y = aag_i_l5y.idxmin()\n",
    "min_i_l5y = min_idx_l5y\n",
    "min_aa_i_l5y = round(aag_i_l5y.loc[min_idx_l5y], 2)\n",
    "\n",
    "print(max_i_l5y)\n",
    "print(max_aa_i_l5y)\n",
    "print(min_i_l5y)\n",
    "print(min_aa_i_l5y)\n",
    "\n",
    "\n"
   ]
  },
  {
   "cell_type": "code",
   "execution_count": null,
   "id": "ffd5c79a",
   "metadata": {},
   "outputs": [],
   "source": [
    "# Covariance of Year and Amount granted.\n",
    "\n",
    "# Drop NaN values\n",
    "\n",
    "curated_data = sf_data[(sf_data['Monto'].notnull())]\n",
    "\n",
    "y_ag_cov = np.cov(curated_data['Año'], curated_data['Monto'])\n",
    "print(y_ag_cov)\n",
    "\n",
    "# A positive covariance (2.43e+08) suggest that these variables are in direct relationship.\n",
    "# As age increases, the amount granted grows."
   ]
  },
  {
   "cell_type": "code",
   "execution_count": null,
   "id": "d87a84aa",
   "metadata": {
    "scrolled": true
   },
   "outputs": [],
   "source": [
    "# Correlation of Year and Amount granted.\n",
    "\n",
    "y_ag_corr, p = stats.pearsonr(curated_data['Año'], curated_data['Monto'])\n",
    "print(y_ag_corr, p)\n",
    "\n",
    "# Even though the correlation es positive, it's relatively near 0.\n",
    "# This suggests that while the relation is positive, it's weak. \n",
    "# The p-value is very small, which suggests that this result is not due to chance: its statistically significative."
   ]
  },
  {
   "cell_type": "code",
   "execution_count": null,
   "id": "824e9b87",
   "metadata": {},
   "outputs": [],
   "source": []
  }
 ],
 "metadata": {
  "kernelspec": {
   "display_name": "Python 3 (ipykernel)",
   "language": "python",
   "name": "python3"
  },
  "language_info": {
   "codemirror_mode": {
    "name": "ipython",
    "version": 3
   },
   "file_extension": ".py",
   "mimetype": "text/x-python",
   "name": "python",
   "nbconvert_exporter": "python",
   "pygments_lexer": "ipython3",
   "version": "3.9.13"
  }
 },
 "nbformat": 4,
 "nbformat_minor": 5
}
